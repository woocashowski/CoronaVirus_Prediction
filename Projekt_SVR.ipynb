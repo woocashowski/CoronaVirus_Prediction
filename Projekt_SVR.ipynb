{
  "nbformat": 4,
  "nbformat_minor": 0,
  "metadata": {
    "kernelspec": {
      "display_name": "Python 3",
      "language": "python",
      "name": "python3"
    },
    "language_info": {
      "codemirror_mode": {
        "name": "ipython",
        "version": 3
      },
      "file_extension": ".py",
      "mimetype": "text/x-python",
      "name": "python",
      "nbconvert_exporter": "python",
      "pygments_lexer": "ipython3",
      "version": "3.7.6"
    },
    "colab": {
      "name": "Projekt_SVR.ipynb",
      "provenance": [],
      "include_colab_link": true
    }
  },
  "cells": [
    {
      "cell_type": "markdown",
      "metadata": {
        "id": "view-in-github",
        "colab_type": "text"
      },
      "source": [
        "<a href=\"https://colab.research.google.com/github/woocashowski/CoronaVirus_Prediction/blob/master/Projekt_SVR.ipynb\" target=\"_parent\"><img src=\"https://colab.research.google.com/assets/colab-badge.svg\" alt=\"Open In Colab\"/></a>"
      ]
    },
    {
      "cell_type": "markdown",
      "metadata": {
        "id": "i_wLrul6OPMG",
        "colab_type": "text"
      },
      "source": [
        "# Analiza i predykcja zachorowań na COVID-19"
      ]
    },
    {
      "cell_type": "markdown",
      "metadata": {
        "id": "tL0x3nhGOPMG",
        "colab_type": "text"
      },
      "source": [
        "## Opis choroby:\n",
        "COVID-19 (od ang. Coronavirus Disease 2019) \n",
        "– ostra choroba zakaźna układu oddechowego wywołana zakażeniem wirusem SARS-CoV-2.\n",
        "\n",
        "Zakażenie rozprzestrzenia się pomiędzy ludźmi drogą kropelkową, zazwyczaj w wyniku kaszlu lub kichania.\n",
        "\n",
        "**Okres wylęgania się choroby najczęściej wynosi od 2 do 14 dni, ze średnią długością 5 dni.**\n",
        "\n",
        "Osoby chore mogą zarażać na 24-48 godzin przed wystąpieniem objawów choroby.\n",
        "\n",
        "### Czas trwania choroby\n",
        "\n",
        "Przebieg choroby może być różnorodny. \n",
        "\n",
        "Większość pacjentów (ok. 81%) może przechodzić ją bezobjawowo lub mieć łagodne objawy, przypominające inne choroby górnych dróg oddechowych, które ustępują po około dwóch tygodniach. \n",
        "\n",
        "Część pacjentów może mieć ostrą (14%) lub krytyczną (5%) postać choroby, co wymaga 3 do 6 tygodni do wyleczenia. \n",
        "\n",
        "U pacjentów z postacią krytyczną, którzy zmarli, czas od wystąpienia objawów do śmierci wynosił od 2 do 8 tygodni[39]."
      ]
    },
    {
      "cell_type": "markdown",
      "metadata": {
        "id": "6Frn5Lt78VEz",
        "colab_type": "text"
      },
      "source": [
        "## Importy"
      ]
    },
    {
      "cell_type": "markdown",
      "metadata": {
        "id": "8AcjnncLOPMH",
        "colab_type": "text"
      },
      "source": [
        "### Import bibliotek"
      ]
    },
    {
      "cell_type": "code",
      "metadata": {
        "id": "YMvxauzHOPMI",
        "colab_type": "code",
        "colab": {}
      },
      "source": [
        "import pandas as pd\n",
        "import xlrd\n",
        "import numpy as np\n",
        "import matplotlib.pyplot as plt\n",
        "from google.colab import files\n",
        "import io\n",
        "from sklearn.model_selection import train_test_split\n",
        "from astropy.table import QTable, Table, Column\n",
        "\n",
        "# Machine Learning:\n",
        "from sklearn.svm import SVR"
      ],
      "execution_count": 0,
      "outputs": []
    },
    {
      "cell_type": "markdown",
      "metadata": {
        "id": "MxMlviYAOPMM",
        "colab_type": "text"
      },
      "source": [
        "### Import pliku"
      ]
    },
    {
      "cell_type": "code",
      "metadata": {
        "id": "3Kl2lBQCOPMN",
        "colab_type": "code",
        "outputId": "6bc10e63-03ea-4943-d63c-ab0192574fe9",
        "colab": {
          "resources": {
            "http://localhost:8080/nbextensions/google.colab/files.js": {
              "data": "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",
              "ok": true,
              "headers": [
                [
                  "content-type",
                  "application/javascript"
                ]
              ],
              "status": 200,
              "status_text": ""
            }
          },
          "base_uri": "https://localhost:8080/",
          "height": 326
        }
      },
      "source": [
        "uploaded = files.upload()\n",
        "df = pd.read_excel(io.BytesIO(uploaded['COVID-19-geographic-disbtribution-worldwide2.xlsx']))\n",
        "#(r'COVID-19-geographic-disbtribution-worldwide.xlsx')\n",
        "print (df)\n",
        "# Source: https://data.europa.eu/euodp/en/data/dataset/covid-19-coronavirus-data/resource/55e8f966-d5c8-438e-85bc-c7a5a26f4863"
      ],
      "execution_count": 0,
      "outputs": [
        {
          "output_type": "display_data",
          "data": {
            "text/html": [
              "\n",
              "     <input type=\"file\" id=\"files-461b4c60-23bc-4897-98f8-d881275a0062\" name=\"files[]\" multiple disabled />\n",
              "     <output id=\"result-461b4c60-23bc-4897-98f8-d881275a0062\">\n",
              "      Upload widget is only available when the cell has been executed in the\n",
              "      current browser session. Please rerun this cell to enable.\n",
              "      </output>\n",
              "      <script src=\"/nbextensions/google.colab/files.js\"></script> "
            ],
            "text/plain": [
              "<IPython.core.display.HTML object>"
            ]
          },
          "metadata": {
            "tags": []
          }
        },
        {
          "output_type": "stream",
          "text": [
            "Saving COVID-19-geographic-disbtribution-worldwide2.xlsx to COVID-19-geographic-disbtribution-worldwide2.xlsx\n",
            "         dateRep  day  month  ...  countryterritoryCode  popData2018  continentExp\n",
            "0     2020-05-24   24      5  ...                   AFG   37172386.0          Asia\n",
            "1     2020-05-23   23      5  ...                   AFG   37172386.0          Asia\n",
            "2     2020-05-22   22      5  ...                   AFG   37172386.0          Asia\n",
            "3     2020-05-21   21      5  ...                   AFG   37172386.0          Asia\n",
            "4     2020-05-20   20      5  ...                   AFG   37172386.0          Asia\n",
            "...          ...  ...    ...  ...                   ...          ...           ...\n",
            "19032 2020-03-25   25      3  ...                   ZWE   14439018.0        Africa\n",
            "19033 2020-03-24   24      3  ...                   ZWE   14439018.0        Africa\n",
            "19034 2020-03-23   23      3  ...                   ZWE   14439018.0        Africa\n",
            "19035 2020-03-22   22      3  ...                   ZWE   14439018.0        Africa\n",
            "19036 2020-03-21   21      3  ...                   ZWE   14439018.0        Africa\n",
            "\n",
            "[19037 rows x 11 columns]\n"
          ],
          "name": "stdout"
        }
      ]
    },
    {
      "cell_type": "code",
      "metadata": {
        "id": "N69H-qhDOPMP",
        "colab_type": "code",
        "outputId": "71c86d5d-bde1-49f9-887f-3293277bc060",
        "colab": {
          "base_uri": "https://localhost:8080/",
          "height": 34
        }
      },
      "source": [
        "# Reading an excel file using Python \n",
        "import xlrd \n",
        "  \n",
        "# Give the location of the file \n",
        "loc = (\"COVID-19-geographic-disbtribution-worldwide2.xlsx\") \n",
        "  \n",
        "# To open Workbook \n",
        "wb = xlrd.open_workbook(loc) \n",
        "sheet = wb.sheet_by_index(0) \n",
        "  \n",
        "# For row 0 and column 0 - test\n",
        "print(sheet.cell_value(1, 6)) "
      ],
      "execution_count": 0,
      "outputs": [
        {
          "output_type": "stream",
          "text": [
            "Afghanistan\n"
          ],
          "name": "stdout"
        }
      ]
    },
    {
      "cell_type": "code",
      "metadata": {
        "id": "trbjb7uRoXeo",
        "colab_type": "code",
        "outputId": "369f697d-fec7-404e-9fa2-85ee856189ce",
        "colab": {
          "base_uri": "https://localhost:8080/",
          "height": 34
        }
      },
      "source": [
        "print(sheet.cell_value(1, 1)) "
      ],
      "execution_count": 0,
      "outputs": [
        {
          "output_type": "stream",
          "text": [
            "24.0\n"
          ],
          "name": "stdout"
        }
      ]
    },
    {
      "cell_type": "markdown",
      "metadata": {
        "id": "M_Hoc-s8OPMS",
        "colab_type": "text"
      },
      "source": [
        "## Lista krajów"
      ]
    },
    {
      "cell_type": "code",
      "metadata": {
        "id": "Dr3XGeEoOPMS",
        "colab_type": "code",
        "outputId": "b0ce383e-05d6-463b-fb8f-060b513d879d",
        "colab": {
          "base_uri": "https://localhost:8080/"
        }
      },
      "source": [
        "countries = []\n",
        "for i in range(sheet.nrows): \n",
        "    countries.append(sheet.cell_value(i, 6))  \n",
        "    \n",
        "output = []\n",
        "for x in countries:\n",
        "    if x not in output:\n",
        "        output.append(x)\n",
        "del(output[0])\n",
        "countries = output\n",
        "print(countries)"
      ],
      "execution_count": 0,
      "outputs": [
        {
          "output_type": "stream",
          "text": [
            "['Afghanistan', 'Albania', 'Algeria', 'Andorra', 'Angola', 'Anguilla', 'Antigua_and_Barbuda', 'Argentina', 'Armenia', 'Aruba', 'Australia', 'Austria', 'Azerbaijan', 'Bahamas', 'Bahrain', 'Bangladesh', 'Barbados', 'Belarus', 'Belgium', 'Belize', 'Benin', 'Bermuda', 'Bhutan', 'Bolivia', 'Bonaire, Saint Eustatius and Saba', 'Bosnia_and_Herzegovina', 'Botswana', 'Brazil', 'British_Virgin_Islands', 'Brunei_Darussalam', 'Bulgaria', 'Burkina_Faso', 'Burundi', 'Cambodia', 'Cameroon', 'Canada', 'Cape_Verde', 'Cases_on_an_international_conveyance_Japan', 'Cayman_Islands', 'Central_African_Republic', 'Chad', 'Chile', 'China', 'Colombia', 'Comoros', 'Congo', 'Costa_Rica', 'Cote_dIvoire', 'Croatia', 'Cuba', 'CuraÃ§ao', 'Cyprus', 'Czechia', 'Democratic_Republic_of_the_Congo', 'Denmark', 'Djibouti', 'Dominica', 'Dominican_Republic', 'Ecuador', 'Egypt', 'El_Salvador', 'Equatorial_Guinea', 'Eritrea', 'Estonia', 'Eswatini', 'Ethiopia', 'Falkland_Islands_(Malvinas)', 'Faroe_Islands', 'Fiji', 'Finland', 'France', 'French_Polynesia', 'Gabon', 'Gambia', 'Georgia', 'Germany', 'Ghana', 'Gibraltar', 'Greece', 'Greenland', 'Grenada', 'Guam', 'Guatemala', 'Guernsey', 'Guinea', 'Guinea_Bissau', 'Guyana', 'Haiti', 'Holy_See', 'Honduras', 'Hungary', 'Iceland', 'India', 'Indonesia', 'Iran', 'Iraq', 'Ireland', 'Isle_of_Man', 'Israel', 'Italy', 'Jamaica', 'Japan', 'Jersey', 'Jordan', 'Kazakhstan', 'Kenya', 'Kosovo', 'Kuwait', 'Kyrgyzstan', 'Laos', 'Latvia', 'Lebanon', 'Lesotho', 'Liberia', 'Libya', 'Liechtenstein', 'Lithuania', 'Luxembourg', 'Madagascar', 'Malawi', 'Malaysia', 'Maldives', 'Mali', 'Malta', 'Mauritania', 'Mauritius', 'Mexico', 'Moldova', 'Monaco', 'Mongolia', 'Montenegro', 'Montserrat', 'Morocco', 'Mozambique', 'Myanmar', 'Namibia', 'Nepal', 'Netherlands', 'New_Caledonia', 'New_Zealand', 'Nicaragua', 'Niger', 'Nigeria', 'North_Macedonia', 'Northern_Mariana_Islands', 'Norway', 'Oman', 'Pakistan', 'Palestine', 'Panama', 'Papua_New_Guinea', 'Paraguay', 'Peru', 'Philippines', 'Poland', 'Portugal', 'Puerto_Rico', 'Qatar', 'Romania', 'Russia', 'Rwanda', 'Saint_Kitts_and_Nevis', 'Saint_Lucia', 'Saint_Vincent_and_the_Grenadines', 'San_Marino', 'Sao_Tome_and_Principe', 'Saudi_Arabia', 'Senegal', 'Serbia', 'Seychelles', 'Sierra_Leone', 'Singapore', 'Sint_Maarten', 'Slovakia', 'Slovenia', 'Somalia', 'South_Africa', 'South_Korea', 'South_Sudan', 'Spain', 'Sri_Lanka', 'Sudan', 'Suriname', 'Sweden', 'Switzerland', 'Syria', 'Taiwan', 'Tajikistan', 'Thailand', 'Timor_Leste', 'Togo', 'Trinidad_and_Tobago', 'Tunisia', 'Turkey', 'Turks_and_Caicos_islands', 'Uganda', 'Ukraine', 'United_Arab_Emirates', 'United_Kingdom', 'United_Republic_of_Tanzania', 'United_States_of_America', 'United_States_Virgin_Islands', 'Uruguay', 'Uzbekistan', 'Venezuela', 'Vietnam', 'Western_Sahara', 'Yemen', 'Zambia', 'Zimbabwe']\n"
          ],
          "name": "stdout"
        }
      ]
    },
    {
      "cell_type": "markdown",
      "metadata": {
        "id": "AOJkMqGdOPMU",
        "colab_type": "text"
      },
      "source": [
        "## Suma zarażonych"
      ]
    },
    {
      "cell_type": "markdown",
      "metadata": {
        "id": "3mu9lgTqOPMV",
        "colab_type": "text"
      },
      "source": [
        "Analiza krajów o największej ilości zarażonych pozwoli przyjrzeć się jedynie przypadkom istotnym. "
      ]
    },
    {
      "cell_type": "code",
      "metadata": {
        "id": "nIbDEkypOPMV",
        "colab_type": "code",
        "outputId": "fbb1596e-0c5c-475f-bcd5-78891fdc0855",
        "colab": {
          "base_uri": "https://localhost:8080/"
        }
      },
      "source": [
        "sum_cases = {}\n",
        "for x in countries:\n",
        "    sum_cases[x] = 0\n",
        "#print(sum_cases.get(sheet.cell_value(0, 6)))\n",
        "\n",
        "\n",
        "for i in range(sheet.nrows):\n",
        "    if(i > 0):\n",
        "        sum_cases[sheet.cell_value(i, 6)] = sheet.cell_value(i, 4) + sum_cases.get(sheet.cell_value(i, 6))\n",
        "\n",
        "print(sum_cases)"
      ],
      "execution_count": 0,
      "outputs": [
        {
          "output_type": "stream",
          "text": [
            "{'Afghanistan': 9998.0, 'Albania': 989.0, 'Algeria': 8113.0, 'Andorra': 762.0, 'Angola': 60.0, 'Anguilla': 3.0, 'Antigua_and_Barbuda': 25.0, 'Argentina': 11340.0, 'Armenia': 6302.0, 'Aruba': 101.0, 'Australia': 7106.0, 'Austria': 16407.0, 'Azerbaijan': 3982.0, 'Bahamas': 100.0, 'Bahrain': 8802.0, 'Bangladesh': 32078.0, 'Barbados': 92.0, 'Belarus': 35244.0, 'Belgium': 56810.0, 'Belize': 18.0, 'Benin': 135.0, 'Bermuda': 133.0, 'Bhutan': 24.0, 'Bolivia': 5915.0, 'Bonaire, Saint Eustatius and Saba': 6.0, 'Bosnia_and_Herzegovina': 2391.0, 'Botswana': 30.0, 'Brazil': 347398.0, 'British_Virgin_Islands': 8.0, 'Brunei_Darussalam': 141.0, 'Bulgaria': 2408.0, 'Burkina_Faso': 814.0, 'Burundi': 42.0, 'Cambodia': 124.0, 'Cameroon': 4597.0, 'Canada': 83610.0, 'Cape_Verde': 371.0, 'Cases_on_an_international_conveyance_Japan': 696.0, 'Cayman_Islands': 129.0, 'Central_African_Republic': 552.0, 'Chad': 648.0, 'Chile': 65393.0, 'China': 84084.0, 'Colombia': 20177.0, 'Comoros': 78.0, 'Congo': 487.0, 'Costa_Rica': 918.0, 'Cote_dIvoire': 2366.0, 'Croatia': 2243.0, 'Cuba': 1931.0, 'CuraÃ§ao': 16.0, 'Cyprus': 927.0, 'Czechia': 8890.0, 'Democratic_Republic_of_the_Congo': 2141.0, 'Denmark': 11289.0, 'Djibouti': 2270.0, 'Dominica': 16.0, 'Dominican_Republic': 14422.0, 'Ecuador': 36258.0, 'Egypt': 16613.0, 'El_Salvador': 1819.0, 'Equatorial_Guinea': 1043.0, 'Eritrea': 39.0, 'Estonia': 1821.0, 'Eswatini': 238.0, 'Ethiopia': 494.0, 'Falkland_Islands_(Malvinas)': 13.0, 'Faroe_Islands': 187.0, 'Fiji': 18.0, 'Finland': 6568.0, 'France': 144806.0, 'French_Polynesia': 60.0, 'Gabon': 1934.0, 'Gambia': 25.0, 'Georgia': 728.0, 'Germany': 178281.0, 'Ghana': 6617.0, 'Gibraltar': 151.0, 'Greece': 2876.0, 'Greenland': 11.0, 'Grenada': 22.0, 'Guam': 166.0, 'Guatemala': 3054.0, 'Guernsey': 252.0, 'Guinea': 3176.0, 'Guinea_Bissau': 1114.0, 'Guyana': 127.0, 'Haiti': 865.0, 'Holy_See': 12.0, 'Honduras': 3743.0, 'Hungary': 3741.0, 'Iceland': 1804.0, 'India': 131868.0, 'Indonesia': 21745.0, 'Iran': 133521.0, 'Iraq': 4272.0, 'Ireland': 24582.0, 'Isle_of_Man': 336.0, 'Israel': 16690.0, 'Italy': 229327.0, 'Jamaica': 550.0, 'Japan': 16550.0, 'Jersey': 306.0, 'Jordan': 704.0, 'Kazakhstan': 8322.0, 'Kenya': 1192.0, 'Kosovo': 1025.0, 'Kuwait': 20464.0, 'Kyrgyzstan': 1403.0, 'Laos': 19.0, 'Latvia': 1046.0, 'Lebanon': 1097.0, 'Lesotho': 2.0, 'Liberia': 255.0, 'Libya': 75.0, 'Liechtenstein': 83.0, 'Lithuania': 1616.0, 'Luxembourg': 3990.0, 'Madagascar': 448.0, 'Malawi': 83.0, 'Malaysia': 7185.0, 'Maldives': 1303.0, 'Mali': 1015.0, 'Malta': 609.0, 'Mauritania': 227.0, 'Mauritius': 332.0, 'Mexico': 65856.0, 'Moldova': 6994.0, 'Monaco': 98.0, 'Mongolia': 141.0, 'Montenegro': 324.0, 'Montserrat': 11.0, 'Morocco': 7406.0, 'Mozambique': 168.0, 'Myanmar': 201.0, 'Namibia': 20.0, 'Nepal': 584.0, 'Netherlands': 45064.0, 'New_Caledonia': 18.0, 'New_Zealand': 1154.0, 'Nicaragua': 279.0, 'Niger': 943.0, 'Nigeria': 7526.0, 'North_Macedonia': 1941.0, 'Northern_Mariana_Islands': 22.0, 'Norway': 8309.0, 'Oman': 7257.0, 'Pakistan': 54601.0, 'Palestine': 602.0, 'Panama': 10577.0, 'Papua_New_Guinea': 8.0, 'Paraguay': 850.0, 'Peru': 115754.0, 'Philippines': 13777.0, 'Poland': 20931.0, 'Portugal': 30471.0, 'Puerto_Rico': 3100.0, 'Qatar': 42213.0, 'Romania': 17857.0, 'Russia': 335882.0, 'Rwanda': 325.0, 'Saint_Kitts_and_Nevis': 15.0, 'Saint_Lucia': 18.0, 'Saint_Vincent_and_the_Grenadines': 18.0, 'San_Marino': 665.0, 'Sao_Tome_and_Principe': 291.0, 'Saudi_Arabia': 70161.0, 'Senegal': 2976.0, 'Serbia': 11092.0, 'Seychelles': 11.0, 'Sierra_Leone': 621.0, 'Singapore': 31068.0, 'Sint_Maarten': 78.0, 'Slovakia': 1504.0, 'Slovenia': 1478.0, 'Somalia': 1594.0, 'South_Africa': 21343.0, 'South_Korea': 11190.0, 'South_Sudan': 563.0, 'Spain': 235290.0, 'Sri_Lanka': 1089.0, 'Sudan': 3628.0, 'Suriname': 11.0, 'Sweden': 33188.0, 'Switzerland': 30642.0, 'Syria': 70.0, 'Taiwan': 441.0, 'Tajikistan': 2551.0, 'Thailand': 3040.0, 'Timor_Leste': 24.0, 'Togo': 373.0, 'Trinidad_and_Tobago': 116.0, 'Tunisia': 1048.0, 'Turkey': 155686.0, 'Turks_and_Caicos_islands': 12.0, 'Uganda': 312.0, 'Ukraine': 20580.0, 'United_Arab_Emirates': 28704.0, 'United_Kingdom': 254195.0, 'United_Republic_of_Tanzania': 509.0, 'United_States_of_America': 1622670.0, 'United_States_Virgin_Islands': 69.0, 'Uruguay': 764.0, 'Uzbekistan': 3078.0, 'Venezuela': 944.0, 'Vietnam': 324.0, 'Western_Sahara': 6.0, 'Yemen': 212.0, 'Zambia': 920.0, 'Zimbabwe': 56.0}\n"
          ],
          "name": "stdout"
        }
      ]
    },
    {
      "cell_type": "markdown",
      "metadata": {
        "id": "O6UT5a8c8rYH",
        "colab_type": "text"
      },
      "source": [
        "### Populacja"
      ]
    },
    {
      "cell_type": "code",
      "metadata": {
        "id": "e3lErfZQOPMh",
        "colab_type": "code",
        "colab": {}
      },
      "source": [
        "# Populacja:\n",
        "\n",
        "pop = {}\n",
        "for i in range(sheet.nrows):\n",
        "    if(i > 0):\n",
        "        pop[sheet.cell_value(i, 6)] = sheet.cell_value(i, 9)\n",
        "\n",
        "#print(pop)\n"
      ],
      "execution_count": 0,
      "outputs": []
    },
    {
      "cell_type": "markdown",
      "metadata": {
        "id": "NVch8q6k8vSa",
        "colab_type": "text"
      },
      "source": [
        "### Odsetek osób zarażonych"
      ]
    },
    {
      "cell_type": "code",
      "metadata": {
        "id": "faFJEO0hOPMj",
        "colab_type": "code",
        "outputId": "5ffdb429-5eb3-4ff1-976e-7808acc0e2b8",
        "colab": {
          "base_uri": "https://localhost:8080/"
        }
      },
      "source": [
        "# Odsetek osób zarażonych:\n",
        "per = {}\n",
        "\n",
        "for x in countries:\n",
        "    if(pop[x] == '' or pop[x] == 0 ):\n",
        "        print(x, \"- brak danych, element zostaje usunięty z danych\")\n",
        "        del(pop[x])\n",
        "        countries.remove(x)\n",
        "        # ^jeżeli państwo ma 0 populacji lub brak danych to ustalamy liczbę przypadków jako 0, by uniknąć problemów\n",
        "        # + to państwo najwidoczniej nie jest istotne\n",
        "    else:\n",
        "        per[x] = (sum_cases[x]/float(pop[x]))\n",
        "        #print(x, sum_cases[x] / pop[x])\n",
        "\n",
        "#print(per)"
      ],
      "execution_count": 0,
      "outputs": [
        {
          "output_type": "stream",
          "text": [
            "Anguilla - brak danych, element zostaje usunięty z danych\n",
            "Bonaire, Saint Eustatius and Saba - brak danych, element zostaje usunięty z danych\n",
            "Eritrea - brak danych, element zostaje usunięty z danych\n",
            "Falkland_Islands_(Malvinas) - brak danych, element zostaje usunięty z danych\n",
            "Western_Sahara - brak danych, element zostaje usunięty z danych\n"
          ],
          "name": "stdout"
        }
      ]
    },
    {
      "cell_type": "markdown",
      "metadata": {
        "id": "Ohdbc5IrBPwl",
        "colab_type": "text"
      },
      "source": [
        "## Predykcja z wykorzystaniem modelu SVR"
      ]
    },
    {
      "cell_type": "markdown",
      "metadata": {
        "id": "fpgGtPgyMh7B",
        "colab_type": "text"
      },
      "source": [
        "### Funkcja predykcyjna"
      ]
    },
    {
      "cell_type": "code",
      "metadata": {
        "id": "Ky4z6MLMWKtL",
        "colab_type": "code",
        "colab": {}
      },
      "source": [
        "# Funkcja do predykcji używająca 3 różnych modelów SVR z 3 różnymi kernelami\n",
        "def predict_cases(dates, cases, x, variable_C):\n",
        "  # Stworzenie 3 modeli SVR\n",
        "  svr_lin = SVR(kernel='linear', C=variable_C)\n",
        "  svr_poly = SVR(kernel='poly', C=variable_C , degree=6)\n",
        "  svr_rbf = SVR(kernel='rbf', C=variable_C , gamma=1.1) # Radial basis function\n",
        "\n",
        "  # Wytrenowanie modelu\n",
        "  svr_lin.fit(dates, cases)\n",
        "  svr_poly.fit(dates, cases)\n",
        "  svr_rbf.fit(dates, cases)\n",
        "\n",
        "  # Czy mam narysować wykres?\n",
        "  graph = False\n",
        "  if(graph):\n",
        "  # Tworzenie wykresu by zobaczyć co jest najlepiej dopasowane\n",
        "    plt.scatter(dates, svr_lin.predict(dates), color='blue', label=\"Linear Model\")\n",
        "    plt.scatter(dates, svr_poly.predict(dates), color='green', label=\"Polynomial Model\")\n",
        "    plt.scatter(dates, svr_rbf.predict(dates), s=20, color='red', label=\"RBF Model\")\n",
        "    plt.scatter(dates, cases, s=3, color='black', label=\"Data\")\n",
        "    plt.xlabel('Date')\n",
        "    plt.ylabel('Cases')\n",
        "    plt.title('Suppor Vector Regression (SVR)')\n",
        "    plt.legend()\n",
        "    plt.show()\n",
        "\n",
        "  # Zwrócenie wartości predykcyjnych\n",
        "  return int(svr_lin.predict(x)[0]), int(svr_poly.predict(x)[0]), int(svr_rbf.predict(x)[0])"
      ],
      "execution_count": 0,
      "outputs": []
    },
    {
      "cell_type": "markdown",
      "metadata": {
        "id": "AYwcKy7D2a_c",
        "colab_type": "text"
      },
      "source": [
        "### Podział na zbiór treningowy i testowy "
      ]
    },
    {
      "cell_type": "code",
      "metadata": {
        "id": "LxxY7fveb6aR",
        "colab_type": "code",
        "colab": {}
      },
      "source": [
        "def create_dataset(country, start_case, ratio, sum_or_daily):\n",
        "  # country - nazwa kraju\n",
        "  # start_case - od ilu dziennych zarażeń chcemy liczyć\n",
        "  # ratio - stosunek treningowy/testowy\n",
        "  # sum_or_daily - suma zarażeń czy ilość zarażeń dziennych?\n",
        "\n",
        "  # % testowych przypadków\n",
        "  #ratio = 0.9\n",
        "\n",
        "  # pierwszy dzień zakażeń:\n",
        "  n_day = 1\n",
        "\n",
        "  # przypadki do trenowania\n",
        "  cases_train = [] \n",
        "  dates_train = []\n",
        "\n",
        "  # przypadki do testowania\n",
        "  cases_test = [] \n",
        "  dates_test = []\n",
        "\n",
        "  # wszystkie przypadki\n",
        "  cases = []\n",
        "  dates = []\n",
        "\n",
        "  for i in range(sheet.nrows):\n",
        "    if(sheet.cell_value(i, 6) == country):\n",
        "      cases.append(sheet.cell_value(i, 4))\n",
        "      dates.append(n_day)\n",
        "      n_day += 1\n",
        "\n",
        "  # Aby uniknąć błędów z powodu dużej ilości wartości 0 pozbędziemy się dni\n",
        "  # przed dziennym zachorowaniem w liczbie n_people -\n",
        "  # - jest różnica między np dużymi USA i małą Polską \n",
        "  tmp_dates = []\n",
        "  tmp_cases = []\n",
        "\n",
        "  # jeżeli był przypadek o liczbie start_case to idziemy dalej\n",
        "  wasFirst = False \n",
        "  for data in list(reversed(dates)):\n",
        "    if(cases[data-1] >= start_case or wasFirst):\n",
        "      tmp_dates.append([data])\n",
        "      tmp_cases.append(cases[data-1])\n",
        "      wasFirst = True # jeśli się wykonało raz, to niech wykonuje się do końca\n",
        "\n",
        "  # odwrócenie dat, ponieważ są odwrócone w kolejności przez poprzednią funkcję\n",
        "  dates = list(reversed(tmp_dates))\n",
        "  cases = (tmp_cases)\n",
        "\n",
        "\n",
        "  \n",
        "  for n in range(0, len(cases)):\n",
        "    if(n > 0):\n",
        "      if(sum_or_daily):\n",
        "        cases[n] = cases[n] + cases[n-1]\n",
        "        #print(\"ok: \",cases[n], n, len(cases))\n",
        "  # Czy chcemy liczyć dla wartości dziennych czy sumując przypadki\n",
        "  #if(sum_or_daily):\n",
        "  #  for n in range(0, len(cases)):\n",
        "  #    if(n > 0):\n",
        "  #      cases[n] = cases[n] #+ cases[n-1]\n",
        "  #      #print(\"ok: \",cases[n], n, len(cases))\n",
        "  else:\n",
        "    for n in range(0, len(cases)):\n",
        "      if(n > 0):\n",
        "        cases[n] = cases[n]\n",
        "        #print(\"ok\",cases[n], n, len(cases))\n",
        "\n",
        "\n",
        "\n",
        "  # 2 opcje:\n",
        "  # False - po staremu tzn 1 dzień do przodu\n",
        "  # True  - kilka dni do przodu na datasecie\n",
        "  # opt = False - opcja standardowa by pokazywało 1 dzień do przodu\n",
        "\n",
        "  # Podział według ratio\n",
        "  #if(opt):\n",
        "  # przypadki\n",
        "  cases_train = cases[:int(len(cases)*ratio)]\n",
        "  cases_test = cases[int(len(cases)*ratio):]\n",
        "\n",
        "  # daty\n",
        "  dates_train = dates[:int(len(dates)*ratio)] \n",
        "  dates_test = dates[int(len(dates)*ratio):]\n",
        "\n",
        "  # Przekazanie całego zbioru\n",
        "  #else:\n",
        "    # przypadki\n",
        "  #  cases_train = cases[:int(len(cases))]\n",
        "  #  cases_test = cases[int(len(cases)):]\n",
        "\n",
        "    # daty\n",
        "    #dates_train = dates[:int(len(dates))]\n",
        "    #dates_test = dates[int(len(dates)):]\n",
        "\n",
        "  return cases_train, dates_train, cases_test, dates_test\n",
        "\n",
        "# test\n",
        "#create_dataset(\"Poland\", 4, False, 0.9)[3]"
      ],
      "execution_count": 0,
      "outputs": []
    },
    {
      "cell_type": "markdown",
      "metadata": {
        "id": "GhClZISIZ6vm",
        "colab_type": "text"
      },
      "source": [
        "#### Testy podziału\n"
      ]
    },
    {
      "cell_type": "code",
      "metadata": {
        "id": "tLN_FrcB6q1b",
        "colab_type": "code",
        "colab": {}
      },
      "source": [
        "# testy predykcji\n",
        "country = \"Poland\"\n",
        "cpd = 4\n",
        "#\n",
        "#predicted_cases = predict_cases(create_dataset(country, cpd)[1], create_dataset(country, cpd)[0],  [[79]]) #create_dataset(country, cpd)[3] lub [[79]]\n",
        "#print(predicted_cases)"
      ],
      "execution_count": 0,
      "outputs": []
    },
    {
      "cell_type": "markdown",
      "metadata": {
        "id": "BZFyKQXLDQ42",
        "colab_type": "text"
      },
      "source": [
        "### Znalezienie wartości C"
      ]
    },
    {
      "cell_type": "code",
      "metadata": {
        "id": "zLg-co-pC2XC",
        "colab_type": "code",
        "colab": {}
      },
      "source": [
        "def find_C(country, start_case, ratio, sum_or_daily):\n",
        "  new_data = create_dataset(country, start_case, ratio, sum_or_daily)\n",
        "  best_value = predict_cases(new_data[1], new_data[0], [new_data[3][0]], 1)\n",
        "  best_c = 1\n",
        "  print(new_data[2])\n",
        "  print(\"Value for C =\", best_c, best_value)\n",
        "  \n",
        "  for i in [5, 10, 25, 50, 75, 100, 250, 500]: #, 625, 750, 875, 1000\n",
        "    tmp_value = predict_cases(new_data[1], new_data[0], [new_data[3][0]], i)\n",
        "    print(\"Value for C =\", i, tmp_value)\n",
        "    if( abs(tmp_value[0]-new_data[2][0]) + abs(tmp_value[1]-new_data[2][0]) + abs(tmp_value[2]-new_data[2][0]) < \n",
        "       ( abs(best_value[0]-new_data[2][0]) + abs(best_value[1]-new_data[2][0]) + abs(best_value[2]-new_data[2][0]) ) ):\n",
        "      best_value = tmp_value\n",
        "      best_c = i\n",
        "      print(\"New best value\")\n",
        "  print(\"The best C value is\", best_c)\n",
        "\n",
        "\n",
        "  return abs(best_c)\n",
        "\n",
        "#find_C(\"Poland\", 4, 0.95, False)\n",
        "\n",
        "  "
      ],
      "execution_count": 0,
      "outputs": []
    },
    {
      "cell_type": "markdown",
      "metadata": {
        "id": "uURmlFUFDHav",
        "colab_type": "text"
      },
      "source": [
        "### Obliczenie wartości dla konkretnego dnia"
      ]
    },
    {
      "cell_type": "code",
      "metadata": {
        "id": "rP5A7PZ6-0o0",
        "colab_type": "code",
        "outputId": "557a385c-a2b2-4991-bbba-434dd276d596",
        "colab": {
          "base_uri": "https://localhost:8080/",
          "height": 34
        }
      },
      "source": [
        "\n",
        "#predicted_cases[2]\n",
        "# Liczymy na x dni do przodu\n",
        "\n",
        "def calculate_value(country, start_case, case_day, ratio, sum_or_daily, variable_C):\n",
        "    predicted_cases = predict_cases(create_dataset(country, start_case, ratio, sum_or_daily)[1], create_dataset(country, start_case, ratio, sum_or_daily)[0], case_day, variable_C)\n",
        "    return predicted_cases\n",
        "\n",
        "\n",
        "calculate_value(\"Poland\", 4, [[79]], 0.7, False, 100)"
      ],
      "execution_count": 0,
      "outputs": [
        {
          "output_type": "execute_result",
          "data": {
            "text/plain": [
              "(649, 2887, 223)"
            ]
          },
          "metadata": {
            "tags": []
          },
          "execution_count": 16
        }
      ]
    },
    {
      "cell_type": "markdown",
      "metadata": {
        "id": "KNMJB0LLheXb",
        "colab_type": "text"
      },
      "source": [
        "### Przewidywanie na kilka dni"
      ]
    },
    {
      "cell_type": "code",
      "metadata": {
        "id": "O4Ba3BqKel-z",
        "colab_type": "code",
        "outputId": "ba9a8b69-410a-4872-ab2d-efc1dc952bc3",
        "colab": {
          "base_uri": "https://localhost:8080/",
          "height": 50
        }
      },
      "source": [
        "def predicting_few_days(country, start_case, ratio, sum_or_daily, variable_C):\n",
        "  # country - kraj\n",
        "  # start_case - od ilu dni liczyć\n",
        "  # ratio - stosunek treningu do testu\n",
        "  # liczymy według sumy? Jeśli nie to dziennie\n",
        "\n",
        "  # wybierzmy kraj\n",
        "  new_dataset = create_dataset(country, start_case, ratio, sum_or_daily)\n",
        "\n",
        "  # Przewidywane wartości:\n",
        "  I_have_predidicted_values_data    = []\n",
        "  I_have_predidicted_values_linear  = []\n",
        "  I_have_predidicted_values_poly    = []\n",
        "  I_have_predidicted_values_svr     = []\n",
        "  I_have_real_values = new_dataset[2]\n",
        "\n",
        "  i = 0\n",
        "  # Wyliczmy wartości:\n",
        "  for data in new_dataset[3]:\n",
        "    I_have_predidicted_values_data.append(data[0])\n",
        "    I_have_predidicted_values_linear.append(calculate_value(country, start_case, [data], ratio, sum_or_daily, variable_C)[0])\n",
        "    I_have_predidicted_values_poly.append(  calculate_value(country, start_case, [data], ratio, sum_or_daily, variable_C)[1]) \n",
        "    I_have_predidicted_values_svr.append(   calculate_value(country, start_case, [data], ratio, sum_or_daily, variable_C)[2])\n",
        "    #I_have_predidicted_values.append(calculate_value(country, start_case, [data]))\n",
        "    #print(calculate_value(country, start_case, [data])[1]/ int(new_dataset[2][i]) )\n",
        "    i = i + 1\n",
        "\n",
        "  return I_have_predidicted_values_data, I_have_predidicted_values_linear, I_have_predidicted_values_poly, I_have_predidicted_values_svr, I_have_real_values\n",
        "  #return  new_dataset[3], I_have_predidicted_values #new_dataset,\n",
        "  \n",
        "print((predicting_few_days(\"Poland\", 4, 0.9, True, 100)[1]), \"\\n\", (predicting_few_days(\"Poland\", 4, 0.9, True, 100)[4]))\n",
        "\n",
        "# few days <3 :\n",
        "# https://www.youtube.com/watch?v=QMnQF7hjsbI"
      ],
      "execution_count": 0,
      "outputs": [
        {
          "output_type": "stream",
          "text": [
            "[17846, 18162, 18478, 18794, 19110, 19426, 19742, 20059] \n",
            " [18256.0, 18528.0, 18884.0, 19267.0, 19738.0, 20142.0, 20618.0, 20930.0]\n"
          ],
          "name": "stdout"
        }
      ]
    },
    {
      "cell_type": "markdown",
      "metadata": {
        "id": "vELCAHS0bTWt",
        "colab_type": "text"
      },
      "source": [
        "### Tworzenie wykresu dla dowolnego kraju\n",
        "\n"
      ]
    },
    {
      "cell_type": "code",
      "metadata": {
        "id": "iw13jhrWdG9Z",
        "colab_type": "code",
        "outputId": "b3c61fb8-bd38-4862-d3fb-78fb63b2fdb7",
        "colab": {
          "base_uri": "https://localhost:8080/",
          "height": 295
        }
      },
      "source": [
        "# Wykres\n",
        "def draw_graph(country = \"Poland\", start_case = 4, ratio = 0.9, sum_or_daily = True, variable_C = 100):\n",
        "  values_predicted = predicting_few_days(country, start_case, ratio, sum_or_daily, variable_C)\n",
        "  dates = values_predicted[0]\n",
        "  #print(values_predicted)\n",
        "\n",
        "\n",
        "  # Tworzenie wykresu by zobaczyć co jest najlepiej dopasowane\n",
        "  #print(values_predicted[0], \"xd\", predicting_few_days[1][0])\n",
        "  plt.scatter(dates, values_predicted[1], color='blue', label=\"Linear Model\")\n",
        "  plt.scatter(dates, values_predicted[2], color='green', label=\"Polynomial Model\")\n",
        "  plt.scatter(dates, values_predicted[3], s=20, color='red', label=\"RBF Model\")\n",
        "  plt.scatter(dates, values_predicted[4], s=3, color='black', label=\"Data\")\n",
        "  plt.xlabel('Date')\n",
        "  plt.ylabel('Cases')\n",
        "  plt.title('Suppor Vector Regression (SVR)')\n",
        "  plt.legend()\n",
        "  plt.show()\n",
        "#draw_graph(\"United_States_of_America\")\n",
        "#draw_graph(\"Poland\")\n",
        "draw_graph(\"Afghanistan\")"
      ],
      "execution_count": 0,
      "outputs": [
        {
          "output_type": "display_data",
          "data": {
            "image/png": "[encoded data removed]",
            "text/plain": [
              "<Figure size 432x288 with 1 Axes>"
            ]
          },
          "metadata": {
            "tags": [],
            "needs_background": "light"
          }
        }
      ]
    },
    {
      "cell_type": "markdown",
      "metadata": {
        "id": "Ov2flvZhc4z2",
        "colab_type": "text"
      },
      "source": [
        "#### Testy wykresów"
      ]
    },
    {
      "cell_type": "code",
      "metadata": {
        "id": "QcDzSHGIzR4p",
        "colab_type": "code",
        "outputId": "89b9c298-6072-48c7-d656-36d5c91bb8ab",
        "colab": {
          "base_uri": "https://localhost:8080/",
          "height": 573
        }
      },
      "source": [
        "draw_graph(\"Poland\", 4, 0.95, False, 875)\n",
        "draw_graph(\"Poland\", 4, 0.95, True, 875)"
      ],
      "execution_count": 0,
      "outputs": [
        {
          "output_type": "display_data",
          "data": {
            "image/png": "[encoded data removed]",
            "text/plain": [
              "<Figure size 432x288 with 1 Axes>"
            ]
          },
          "metadata": {
            "tags": [],
            "needs_background": "light"
          }
        },
        {
          "output_type": "display_data",
          "data": {
            "image/png": "[encoded data removed]",
            "text/plain": [
              "<Figure size 432x288 with 1 Axes>"
            ]
          },
          "metadata": {
            "tags": [],
            "needs_background": "light"
          }
        }
      ]
    },
    {
      "cell_type": "code",
      "metadata": {
        "id": "KTF5lFbmVbsW",
        "colab_type": "code",
        "colab": {}
      },
      "source": [
        "#draw_graph(\"Poland\", 4, 0.7, False, 875)\n",
        "#draw_graph(\"Poland\", 4, 0.7, True, 875)"
      ],
      "execution_count": 0,
      "outputs": []
    },
    {
      "cell_type": "markdown",
      "metadata": {
        "id": "sJVSdaTDpuvw",
        "colab_type": "text"
      },
      "source": [
        "### Tabela danych"
      ]
    },
    {
      "cell_type": "code",
      "metadata": {
        "id": "o6x6GcpRp3ZT",
        "colab_type": "code",
        "outputId": "ecd3baf0-ad99-44ff-947a-dcb7e0f222f7",
        "colab": {
          "base_uri": "https://localhost:8080/",
          "height": 84
        }
      },
      "source": [
        "# Tabela\n",
        "def make_table(country = \"Poland\", start_case = 4, ratio = 0.95, sum_or_daily = False, variable_C = 875):\n",
        "  values_predicted = predicting_few_days(country, start_case, ratio, sum_or_daily, variable_C)\n",
        "  real = values_predicted[1]\n",
        "  print(\"Cases: \\n\")\n",
        "  print(Table([values_predicted[0], values_predicted[4], values_predicted[1], \n",
        "               values_predicted[2], values_predicted[3]], names = [\"date\", \"real\", \"linear\", \"poly\", \"rbf\"]))\n",
        "#make_table(\"Poland\", 4, 0.7, False, 875)\n",
        "print(\"\\n\\n\\n\")\n",
        "#make_table(\"Poland\", 4, 0.7, True, 875)"
      ],
      "execution_count": 0,
      "outputs": [
        {
          "output_type": "stream",
          "text": [
            "\n",
            "\n",
            "\n",
            "\n"
          ],
          "name": "stdout"
        }
      ]
    },
    {
      "cell_type": "markdown",
      "metadata": {
        "id": "pXVBbScmRkdw",
        "colab_type": "text"
      },
      "source": [
        "### Predykcje dla wybranych krajów "
      ]
    },
    {
      "cell_type": "code",
      "metadata": {
        "id": "jRCjwXe8fVzm",
        "colab_type": "code",
        "outputId": "03e5b579-2152-4365-a57f-e01c8747787a",
        "colab": {
          "base_uri": "https://localhost:8080/",
          "height": 286
        }
      },
      "source": [
        "#Polska\n",
        "make_table(\"Poland\", 4, 0.95, False, 875)\n",
        "make_table(\"Poland\", 4, 0.95, True, 875)"
      ],
      "execution_count": 0,
      "outputs": [
        {
          "output_type": "stream",
          "text": [
            "Cases: \n",
            "\n",
            "date  real linear poly rbf\n",
            "---- ----- ------ ---- ---\n",
            "  76 471.0    434  476 292\n",
            "  77 404.0    440  495 257\n",
            "  78 476.0    445  515 256\n",
            "  79 312.0    450  537 256\n",
            "Cases: \n",
            "\n",
            "date   real  linear  poly rbf \n",
            "---- ------- ------ ----- ----\n",
            "  76 19738.0  19171 29142 6900\n",
            "  77 20142.0  19489 31195 6609\n",
            "  78 20618.0  19806 33385 6598\n",
            "  79 20930.0  20124 35721 6598\n"
          ],
          "name": "stdout"
        }
      ]
    },
    {
      "cell_type": "markdown",
      "metadata": {
        "id": "_d0oim-cezmE",
        "colab_type": "text"
      },
      "source": [
        "#### Chiny"
      ]
    },
    {
      "cell_type": "code",
      "metadata": {
        "id": "njmXNgRJe2D0",
        "colab_type": "code",
        "outputId": "4367ecb9-941c-41cf-c430-147c220242f2",
        "colab": {
          "base_uri": "https://localhost:8080/",
          "height": 692
        }
      },
      "source": [
        "print(\"Wartość dzienna:\")\n",
        "find_C(\"China\", 10, 0.7, False)\n",
        "\n",
        "print(\"\\n\\n\")\n",
        "\n",
        "print(\"Wartość sumaryczna:\")\n",
        "find_C(\"China\", 10, 0.7, True)"
      ],
      "execution_count": 0,
      "outputs": [
        {
          "output_type": "stream",
          "text": [
            "Wartość dzienna:\n",
            "[79.0, 93.0, 112.0, 94.0, 49.0, 50.0, 352.0, 31.0, 18.0, 14.0, 32.0, 15.0, 12.0, 8.0, 15.0, 10.0, 3.0, 26.0, 2.0, 4.0, 12.0, 3.0, 2.0, 3.0, 2.0, 2.0, 2.0, 6.0, 0.0, 15.0, 19.0, 1.0, 7.0, 6.0, 5.0, 9.0, 6.0, 10.0, 9.0, 2.0, 2.0, 12.0, 2.0, 3.0]\n",
            "Value for C = 1 (84, 19, 100)\n",
            "Value for C = 5 (84, 21, 101)\n",
            "New best value\n",
            "Value for C = 10 (84, 23, 101)\n",
            "New best value\n",
            "Value for C = 25 (84, 22, 98)\n",
            "New best value\n",
            "Value for C = 50 (84, 23, 101)\n",
            "Value for C = 75 (84, 23, 108)\n",
            "Value for C = 100 (84, 12, 123)\n",
            "Value for C = 250 (84, 3, 195)\n",
            "Value for C = 500 (84, -59, 288)\n",
            "Value for C = 625 (84, -70, 331)\n",
            "Value for C = 750 (84, -94, 369)\n",
            "Value for C = 875 (84, -105, 405)\n",
            "Value for C = 1000 (84, -116, 427)\n",
            "The best C value is 25\n",
            "\n",
            "\n",
            "\n",
            "Wartość sumaryczna:\n",
            "[83004.0, 83097.0, 83209.0, 83303.0, 83352.0, 83402.0, 83754.0, 83785.0, 83803.0, 83817.0, 83849.0, 83864.0, 83876.0, 83884.0, 83899.0, 83909.0, 83912.0, 83938.0, 83940.0, 83944.0, 83956.0, 83959.0, 83961.0, 83964.0, 83966.0, 83968.0, 83970.0, 83976.0, 83976.0, 83991.0, 84010.0, 84011.0, 84018.0, 84024.0, 84029.0, 84038.0, 84044.0, 84054.0, 84063.0, 84065.0, 84067.0, 84079.0, 84081.0, 84084.0]\n",
            "Value for C = 1 (95281, 118188, 74455)\n",
            "Value for C = 5 (102267, 118188, 74456)\n",
            "Value for C = 10 (103076, 118188, 74458)\n",
            "Value for C = 25 (104646, 118188, 74463)\n",
            "Value for C = 50 (104646, 118188, 74472)\n",
            "Value for C = 75 (104646, 118188, 74480)\n",
            "Value for C = 100 (104646, 118188, 74489)\n",
            "Value for C = 250 (104646, 118188, 74541)\n",
            "Value for C = 500 (104646, 118189, 74627)\n",
            "Value for C = 625 (104646, 118189, 74670)\n",
            "Value for C = 750 (104646, 118190, 74713)\n",
            "Value for C = 875 (104646, 118190, 74739)\n",
            "Value for C = 1000 (104646, 118190, 74723)\n",
            "The best C value is 1\n"
          ],
          "name": "stdout"
        },
        {
          "output_type": "execute_result",
          "data": {
            "text/plain": [
              "1"
            ]
          },
          "metadata": {
            "tags": []
          },
          "execution_count": 26
        }
      ]
    },
    {
      "cell_type": "code",
      "metadata": {
        "id": "jCWrg9KGlFzc",
        "colab_type": "code",
        "outputId": "65140ea4-4db5-4f62-b538-36d493be0cbc",
        "colab": {
          "base_uri": "https://localhost:8080/",
          "height": 1000
        }
      },
      "source": [
        "print(\"Wartość dzienna:\")\n",
        "make_table(\"China\", 4, 0.7, False, 25)\n",
        "print(\"\\n\\n\")\n",
        "draw_graph(\"China\", 4, 0.7, False, 25)\n",
        "\n",
        "print(\"\\n\\n\\n\")\n",
        "\n",
        "print(\"Wartość sumaryczna:\")\n",
        "make_table(\"China\", 4, 0.7, True, 1)\n",
        "print(\"\\n\\n\")\n",
        "make_table(\"China\", 4, 0.7, True, 1)\n"
      ],
      "execution_count": 0,
      "outputs": [
        {
          "output_type": "stream",
          "text": [
            "Wartość dzienna:\n",
            "Cases: \n",
            "\n",
            "date  real linear poly rbf\n",
            "---- ----- ------ ---- ---\n",
            " 103  79.0     84   22  98\n",
            " 104  93.0     83   14 107\n",
            " 105 112.0     83    6 107\n",
            " 106  94.0     82   -1 107\n",
            " 107  49.0     81  -10 107\n",
            " 108  50.0     81  -19 107\n",
            " 109 352.0     80  -29 107\n",
            " 110  31.0     79  -39 107\n",
            " 111  18.0     78  -50 107\n",
            " 112  14.0     78  -61 107\n",
            " ...   ...    ...  ... ...\n",
            " 136   6.0     61 -530 107\n",
            " 137   5.0     60 -560 107\n",
            " 138   9.0     60 -592 107\n",
            " 139   6.0     59 -625 107\n",
            " 140  10.0     58 -659 107\n",
            " 141   9.0     58 -695 107\n",
            " 142   2.0     57 -731 107\n",
            " 143   2.0     56 -769 107\n",
            " 144  12.0     56 -809 107\n",
            " 145   2.0     55 -849 107\n",
            " 146   3.0     54 -891 107\n",
            "Length = 44 rows\n",
            "\n",
            "\n",
            "\n"
          ],
          "name": "stdout"
        },
        {
          "output_type": "display_data",
          "data": {
            "image/png": "[encoded data removed]",
            "text/plain": [
              "<Figure size 432x288 with 1 Axes>"
            ]
          },
          "metadata": {
            "tags": [],
            "needs_background": "light"
          }
        },
        {
          "output_type": "stream",
          "text": [
            "\n",
            "\n",
            "\n",
            "\n",
            "Wartość sumaryczna:\n",
            "Cases: \n",
            "\n",
            "date   real  linear  poly   rbf \n",
            "---- ------- ------ ------ -----\n",
            " 103 83004.0  95281 118188 74455\n",
            " 104 83097.0  96234 122863 74455\n",
            " 105 83209.0  97186 127770 74455\n",
            " 106 83303.0  98139 132915 74455\n",
            " 107 83352.0  99091 138309 74455\n",
            " 108 83402.0 100044 143961 74455\n",
            " 109 83754.0 100997 149881 74455\n",
            " 110 83785.0 101949 156078 74455\n",
            " 111 83803.0 102902 162564 74455\n",
            " 112 83817.0 103854 169349 74455\n",
            " ...     ...    ...    ...   ...\n",
            " 136 84024.0 126715 454997 74455\n",
            " 137 84029.0 127668 473652 74455\n",
            " 138 84038.0 128620 493001 74455\n",
            " 139 84044.0 129573 513064 74455\n",
            " 140 84054.0 130526 533862 74455\n",
            " 141 84063.0 131478 555416 74455\n",
            " 142 84065.0 132431 577747 74455\n",
            " 143 84067.0 133383 600880 74455\n",
            " 144 84079.0 134336 624835 74455\n",
            " 145 84081.0 135288 649637 74455\n",
            " 146 84084.0 136241 675308 74455\n",
            "Length = 44 rows\n",
            "\n",
            "\n",
            "\n",
            "Cases: \n",
            "\n",
            "date   real  linear  poly   rbf \n",
            "---- ------- ------ ------ -----\n",
            " 103 83004.0  95281 118188 74455\n",
            " 104 83097.0  96234 122863 74455\n",
            " 105 83209.0  97186 127770 74455\n",
            " 106 83303.0  98139 132915 74455\n",
            " 107 83352.0  99091 138309 74455\n",
            " 108 83402.0 100044 143961 74455\n",
            " 109 83754.0 100997 149881 74455\n",
            " 110 83785.0 101949 156078 74455\n",
            " 111 83803.0 102902 162564 74455\n",
            " 112 83817.0 103854 169349 74455\n",
            " ...     ...    ...    ...   ...\n",
            " 136 84024.0 126715 454997 74455\n",
            " 137 84029.0 127668 473652 74455\n",
            " 138 84038.0 128620 493001 74455\n",
            " 139 84044.0 129573 513064 74455\n",
            " 140 84054.0 130526 533862 74455\n",
            " 141 84063.0 131478 555416 74455\n",
            " 142 84065.0 132431 577747 74455\n",
            " 143 84067.0 133383 600880 74455\n",
            " 144 84079.0 134336 624835 74455\n",
            " 145 84081.0 135288 649637 74455\n",
            " 146 84084.0 136241 675308 74455\n",
            "Length = 44 rows\n"
          ],
          "name": "stdout"
        }
      ]
    },
    {
      "cell_type": "code",
      "metadata": {
        "id": "7Vow9UAZsYF2",
        "colab_type": "code",
        "outputId": "429039de-746b-4dfb-d688-e35ecea375bd",
        "colab": {
          "base_uri": "https://localhost:8080/",
          "height": 295
        }
      },
      "source": [
        "draw_graph(\"China\", 4, 0.7, True, 1)"
      ],
      "execution_count": 0,
      "outputs": [
        {
          "output_type": "display_data",
          "data": {
            "image/png": "[encoded data removed]",
            "text/plain": [
              "<Figure size 432x288 with 1 Axes>"
            ]
          },
          "metadata": {
            "tags": [],
            "needs_background": "light"
          }
        }
      ]
    },
    {
      "cell_type": "markdown",
      "metadata": {
        "id": "cW88-mBOtnIn",
        "colab_type": "text"
      },
      "source": [
        "#### Stany Zjednoczone"
      ]
    },
    {
      "cell_type": "code",
      "metadata": {
        "id": "pAEzPFBkvEKx",
        "colab_type": "code",
        "outputId": "d47782bb-2961-4aff-a305-dfd22758541e",
        "colab": {
          "base_uri": "https://localhost:8080/",
          "height": 826
        }
      },
      "source": [
        "print(\"Wartość dzienna:\")\n",
        "find_C(\"United_States_of_America\", 100, 0.7, False)\n",
        "\n",
        "print(\"\\n\\n\")\n",
        "\n",
        "print(\"Wartość sumaryczna:\")\n",
        "find_C(\"United_States_of_America\", 100, 0.7, True)"
      ],
      "execution_count": 0,
      "outputs": [
        {
          "output_type": "stream",
          "text": [
            "Wartość dzienna:\n",
            "[29917.0, 33955.0, 29288.0, 24972.0, 22593.0, 23841.0, 24128.0, 28369.0, 26957.0, 25612.0, 20258.0, 18117.0, 22048.0, 20782.0, 27143.0, 25508.0, 24487.0, 18873.0, 21841.0, 19970.0, 23285.0, 25434.0, 24147.0, 21236.0]\n",
            "Value for C = 1 (29042, 31661, 22540)\n",
            "Value for C = 5 (38330, 31660, 22539)\n",
            "Value for C = 10 (40814, 31660, 22537)\n",
            "Value for C = 25 (41190, 31658, 22532)\n",
            "Value for C = 50 (42136, 31655, 22523)\n",
            "Value for C = 75 (42136, 31652, 22515)\n",
            "Value for C = 100 (42136, 31649, 22506)\n",
            "Value for C = 250 (42136, 31631, 22454)\n",
            "Value for C = 500 (42136, 31601, 22368)\n",
            "Value for C = 625 (42136, 31586, 22380)\n",
            "Value for C = 750 (42136, 31571, 22443)\n",
            "Value for C = 875 (42136, 31556, 22505)\n",
            "Value for C = 1000 (42136, 31541, 22568)\n",
            "The best C value is 1\n",
            "\n",
            "\n",
            "\n",
            "Wartość sumaryczna:\n",
            "[1069593.0, 1103548.0, 1132836.0, 1157808.0, 1180401.0, 1204242.0, 1228370.0, 1256739.0, 1283696.0, 1309308.0, 1329566.0, 1347683.0, 1369731.0, 1390513.0, 1417656.0, 1443164.0, 1467651.0, 1486524.0, 1508365.0, 1528335.0, 1551620.0, 1577054.0, 1601201.0, 1622437.0]\n",
            "Value for C = 1 (266475, 1557009, 245307)\n",
            "Value for C = 5 (351147, 1643235, 245308)\n",
            "Value for C = 10 (456987, 1643234, 245310)\n",
            "New best value\n",
            "Value for C = 25 (689563, 1643233, 245315)\n",
            "New best value\n",
            "Value for C = 50 (827541, 1643232, 245324)\n",
            "New best value\n",
            "Value for C = 75 (899990, 1643231, 245332)\n",
            "New best value\n",
            "Value for C = 100 (925944, 1643229, 245341)\n",
            "New best value\n",
            "Value for C = 250 (964898, 1643220, 245393)\n",
            "New best value\n",
            "Value for C = 500 (977064, 1643206, 245479)\n",
            "New best value\n",
            "Value for C = 625 (986883, 1643199, 245522)\n",
            "New best value\n",
            "Value for C = 750 (986883, 1643191, 245565)\n",
            "New best value\n",
            "Value for C = 875 (986883, 1643184, 245609)\n",
            "New best value\n",
            "Value for C = 1000 (986883, 1643177, 245652)\n",
            "New best value\n",
            "The best C value is 1000\n"
          ],
          "name": "stdout"
        },
        {
          "output_type": "execute_result",
          "data": {
            "text/plain": [
              "1000"
            ]
          },
          "metadata": {
            "tags": []
          },
          "execution_count": 31
        }
      ]
    },
    {
      "cell_type": "code",
      "metadata": {
        "id": "8Xk-VjZQtsTI",
        "colab_type": "code",
        "outputId": "6ed71327-b78f-4d78-ce76-2c85b786c52b",
        "colab": {
          "base_uri": "https://localhost:8080/",
          "height": 1000
        }
      },
      "source": [
        "print(\"Wartość dzienna:\")\n",
        "make_table(\"United_States_of_America\", 100, 0.7, False, 1000)\n",
        "print(\"\\n\\n\")\n",
        "draw_graph(\"United_States_of_America\", 100, 0.7, False, 1000)\n",
        "\n",
        "print(\"\\n\\n\\n\")\n",
        "\n",
        "print(\"Wartość sumaryczna:\")\n",
        "make_table(\"United_States_of_America\", 100, 0.7, True, 1)\n",
        "print(\"\\n\\n\")\n",
        "draw_graph(\"United_States_of_America\", 100, 0.7, True, 1)"
      ],
      "execution_count": 0,
      "outputs": [
        {
          "output_type": "stream",
          "text": [
            "Wartość dzienna:\n",
            "Cases: \n",
            "\n",
            "date   real  linear  poly   rbf \n",
            "---- ------- ------ ------ -----\n",
            "  56 29917.0  42136  31541 22568\n",
            "  57 33955.0  42942  33027 22235\n",
            "  58 29288.0  43749  34649 22223\n",
            "  59 24972.0  44555  36418 22222\n",
            "  60 22593.0  45362  38343 22222\n",
            "  61 23841.0  46168  40435 22222\n",
            "  62 24128.0  46975  42706 22222\n",
            "  63 28369.0  47781  45168 22222\n",
            "  64 26957.0  48588  47832 22222\n",
            "  65 25612.0  49394  50714 22222\n",
            " ...     ...    ...    ...   ...\n",
            "  69 20782.0  52620  64692 22222\n",
            "  70 27143.0  53426  68877 22222\n",
            "  71 25508.0  54233  73372 22222\n",
            "  72 24487.0  55039  78196 22222\n",
            "  73 18873.0  55846  83365 22222\n",
            "  74 21841.0  56652  88902 22222\n",
            "  75 19970.0  57459  94825 22222\n",
            "  76 23285.0  58265 101157 22222\n",
            "  77 25434.0  59072 107919 22222\n",
            "  78 24147.0  59878 115135 22222\n",
            "  79 21236.0  60685 122829 22222\n",
            "Length = 24 rows\n",
            "\n",
            "\n",
            "\n"
          ],
          "name": "stdout"
        },
        {
          "output_type": "display_data",
          "data": {
            "image/png": "[encoded data removed]",
            "text/plain": [
              "<Figure size 432x288 with 1 Axes>"
            ]
          },
          "metadata": {
            "tags": [],
            "needs_background": "light"
          }
        },
        {
          "output_type": "stream",
          "text": [
            "\n",
            "\n",
            "\n",
            "\n",
            "Wartość sumaryczna:\n",
            "Cases: \n",
            "\n",
            "date    real   linear   poly    rbf  \n",
            "---- --------- ------ -------- ------\n",
            "  56 1069593.0 266475  1557009 245307\n",
            "  57 1103548.0 267231  1718291 245307\n",
            "  58 1132836.0 267987  1894358 245307\n",
            "  59 1157808.0 268743  2086276 245307\n",
            "  60 1180401.0 269499  2295166 245307\n",
            "  61 1204242.0 270255  2522208 245307\n",
            "  62 1228370.0 271011  2768643 245307\n",
            "  63 1256739.0 271767  3035774 245307\n",
            "  64 1283696.0 272523  3324967 245307\n",
            "  65 1309308.0 273279  3637659 245307\n",
            " ...       ...    ...      ...    ...\n",
            "  69 1390513.0 276303  5154545 245307\n",
            "  70 1417656.0 277059  5608727 245307\n",
            "  71 1443164.0 277815  6096535 245307\n",
            "  72 1467651.0 278571  6619933 245307\n",
            "  73 1486524.0 279327  7180967 245307\n",
            "  74 1508365.0 280083  7781773 245307\n",
            "  75 1528335.0 280839  8424575 245307\n",
            "  76 1551620.0 281595  9111689 245307\n",
            "  77 1577054.0 282351  9845527 245307\n",
            "  78 1601201.0 283107 10628594 245307\n",
            "  79 1622437.0 283863 11463501 245307\n",
            "Length = 24 rows\n",
            "\n",
            "\n",
            "\n"
          ],
          "name": "stdout"
        },
        {
          "output_type": "display_data",
          "data": {
            "image/png": "[encoded data removed]",
            "text/plain": [
              "<Figure size 432x288 with 1 Axes>"
            ]
          },
          "metadata": {
            "tags": [],
            "needs_background": "light"
          }
        }
      ]
    },
    {
      "cell_type": "markdown",
      "metadata": {
        "id": "iEDUwHJnyhZm",
        "colab_type": "text"
      },
      "source": [
        "#### Czechy"
      ]
    },
    {
      "cell_type": "code",
      "metadata": {
        "id": "2NpWFjAUyjSj",
        "colab_type": "code",
        "outputId": "9f68a664-76e5-4c67-ab2f-b39cfcd69136",
        "colab": {
          "base_uri": "https://localhost:8080/",
          "height": 726
        }
      },
      "source": [
        "country = \"Czechia\"\n",
        "\n",
        "print(\"Wartość dzienna:\")\n",
        "find_C(country, 4, 0.7, False)\n",
        "\n",
        "print(\"\\n\\n\")\n",
        "\n",
        "print(\"Wartość sumaryczna:\")\n",
        "find_C(country, 4, 0.7, True)"
      ],
      "execution_count": 0,
      "outputs": [
        {
          "output_type": "stream",
          "text": [
            "Wartość dzienna:\n",
            "[103.0, 55.0, 18.0, 26.0, 38.0, 77.0, 78.0, 57.0, 46.0, 18.0, 28.0, 53.0, 45.0, 48.0, 82.0, 55.0, 49.0, 20.0, 111.0, 61.0, 74.0, 33.0, 59.0, 77.0]\n",
            "Value for C = 1 (138, 23, 108)\n",
            "Value for C = 5 (138, 23, 104)\n",
            "New best value\n",
            "Value for C = 10 (138, 23, 101)\n",
            "Value for C = 25 (138, 24, 100)\n",
            "Value for C = 50 (138, 27, 105)\n",
            "New best value\n",
            "Value for C = 75 (138, 30, 108)\n",
            "Value for C = 100 (138, 33, 112)\n",
            "Value for C = 250 (138, 34, 118)\n",
            "Value for C = 500 (138, 44, 119)\n",
            "New best value\n",
            "Value for C = 625 (138, 57, 119)\n",
            "New best value\n",
            "Value for C = 750 (138, 90, 119)\n",
            "New best value\n",
            "Value for C = 875 (138, 117, 119)\n",
            "Value for C = 1000 (138, 126, 119)\n",
            "The best C value is 750\n",
            "\n",
            "\n",
            "\n",
            "Wartość sumaryczna:\n",
            "[7674.0, 7729.0, 7747.0, 7773.0, 7811.0, 7888.0, 7966.0, 8023.0, 8069.0, 8087.0, 8115.0, 8168.0, 8213.0, 8261.0, 8343.0, 8398.0, 8447.0, 8467.0, 8578.0, 8639.0, 8713.0, 8746.0, 8805.0, 8882.0]\n",
            "Value for C = 1 (8324, 12044, 3715)\n",
            "Value for C = 5 (8590, 12044, 3717)\n",
            "Value for C = 10 (8590, 12045, 3718)\n",
            "Value for C = 25 (8591, 12046, 3724)\n",
            "Value for C = 50 (8591, 12048, 3732)\n",
            "Value for C = 75 (8591, 12050, 3741)\n",
            "Value for C = 100 (8591, 12052, 3750)\n",
            "Value for C = 250 (8591, 12063, 3801)\n",
            "Value for C = 500 (8591, 12082, 3900)\n",
            "Value for C = 625 (8591, 12092, 3935)\n",
            "Value for C = 750 (8591, 12102, 3984)\n",
            "Value for C = 875 (8591, 12111, 4014)\n",
            "Value for C = 1000 (8591, 12121, 4050)\n",
            "The best C value is 1\n"
          ],
          "name": "stdout"
        },
        {
          "output_type": "execute_result",
          "data": {
            "text/plain": [
              "1"
            ]
          },
          "metadata": {
            "tags": []
          },
          "execution_count": 34
        }
      ]
    },
    {
      "cell_type": "code",
      "metadata": {
        "id": "8V31tg0dy46z",
        "colab_type": "code",
        "outputId": "e189274d-362a-4ab0-860c-89b8454088fe",
        "colab": {
          "base_uri": "https://localhost:8080/",
          "height": 1000
        }
      },
      "source": [
        "country = \"Czechia\"\n",
        "c1 = 750\n",
        "c2 = 1\n",
        "\n",
        "print(\"Wartość dzienna:\")\n",
        "make_table(country, 100, 0.7, False, c1)\n",
        "print(\"\\n\\n\")\n",
        "draw_graph(country, 100, 0.7, False, c1)\n",
        "\n",
        "print(\"\\n\\n\\n\")\n",
        "\n",
        "print(\"Wartość sumaryczna:\")\n",
        "make_table(country, 100, 0.7, True, c2)\n",
        "print(\"\\n\\n\")\n",
        "draw_graph(country, 100, 0.7, True, c2)"
      ],
      "execution_count": 0,
      "outputs": [
        {
          "output_type": "stream",
          "text": [
            "Wartość dzienna:\n",
            "Cases: \n",
            "\n",
            "date  real linear  poly rbf\n",
            "---- ----- ------ ----- ---\n",
            "  47  38.0     38   -71 121\n",
            "  48  77.0     33  -103 155\n",
            "  49  78.0     29  -140 156\n",
            "  50  57.0     24  -180 156\n",
            "  51  46.0     19  -225 156\n",
            "  52  18.0     15  -274 156\n",
            "  53  28.0     10  -328 156\n",
            "  54  53.0      5  -387 156\n",
            "  55  45.0      0  -452 156\n",
            "  56  48.0     -3  -524 156\n",
            "  57  82.0     -8  -602 156\n",
            "  58  55.0    -13  -687 156\n",
            "  59  49.0    -17  -779 156\n",
            "  60  20.0    -22  -881 156\n",
            "  61 111.0    -27  -990 156\n",
            "  62  61.0    -32 -1109 156\n",
            "  63  74.0    -36 -1239 156\n",
            "  64  33.0    -41 -1379 156\n",
            "  65  59.0    -46 -1530 156\n",
            "  66  77.0    -50 -1693 156\n",
            "\n",
            "\n",
            "\n"
          ],
          "name": "stdout"
        },
        {
          "output_type": "display_data",
          "data": {
            "image/png": "[encoded data removed]",
            "text/plain": [
              "<Figure size 432x288 with 1 Axes>"
            ]
          },
          "metadata": {
            "tags": [],
            "needs_background": "light"
          }
        },
        {
          "output_type": "stream",
          "text": [
            "\n",
            "\n",
            "\n",
            "\n",
            "Wartość sumaryczna:\n",
            "Cases: \n",
            "\n",
            "date  real  linear  poly rbf \n",
            "---- ------ ------ ----- ----\n",
            "  47 7297.0   8197  9736 5295\n",
            "  48 7374.0   8348 10472 5295\n",
            "  49 7452.0   8500 11288 5295\n",
            "  50 7509.0   8652 12191 5295\n",
            "  51 7555.0   8804 13190 5295\n",
            "  52 7573.0   8956 14291 5295\n",
            "  53 7601.0   9108 15504 5295\n",
            "  54 7654.0   9260 16837 5295\n",
            "  55 7699.0   9412 18298 5295\n",
            "  56 7747.0   9564 19899 5295\n",
            "  57 7829.0   9716 21650 5295\n",
            "  58 7884.0   9867 23561 5295\n",
            "  59 7933.0  10019 25644 5295\n",
            "  60 7953.0  10171 27911 5295\n",
            "  61 8064.0  10323 30375 5295\n",
            "  62 8125.0  10475 33050 5295\n",
            "  63 8199.0  10627 35949 5295\n",
            "  64 8232.0  10779 39088 5295\n",
            "  65 8291.0  10931 42482 5295\n",
            "  66 8368.0  11083 46147 5295\n",
            "\n",
            "\n",
            "\n"
          ],
          "name": "stdout"
        },
        {
          "output_type": "display_data",
          "data": {
            "image/png": "[encoded data removed]",
            "text/plain": [
              "<Figure size 432x288 with 1 Axes>"
            ]
          },
          "metadata": {
            "tags": [],
            "needs_background": "light"
          }
        }
      ]
    },
    {
      "cell_type": "markdown",
      "metadata": {
        "id": "Us8KnXo4226A",
        "colab_type": "text"
      },
      "source": [
        "#### Afganistan"
      ]
    },
    {
      "cell_type": "code",
      "metadata": {
        "id": "Xwzu4A6E24l0",
        "colab_type": "code",
        "outputId": "be7637c2-ea29-49fc-9fde-1d0c7679b964",
        "colab": {
          "base_uri": "https://localhost:8080/",
          "height": 894
        }
      },
      "source": [
        "country = \"Afghanistan\"\n",
        "\n",
        "print(\"Wartość dzienna:\")\n",
        "find_C(country, 4, 0.7, False)\n",
        "\n",
        "print(\"\\n\\n\")\n",
        "\n",
        "print(\"Wartość sumaryczna:\")\n",
        "find_C(country, 4, 0.7, True)"
      ],
      "execution_count": 0,
      "outputs": [
        {
          "output_type": "stream",
          "text": [
            "Wartość dzienna:\n",
            "[235.0, 190.0, 330.0, 168.0, 171.0, 215.0, 255.0, 369.0, 285.0, 280.0, 259.0, 113.0, 1063.0, 0.0, 262.0, 408.0, 581.0, 492.0, 531.0, 540.0, 782.0]\n",
            "Value for C = 1 (107, 204, 35)\n",
            "Value for C = 5 (107, 204, 38)\n",
            "New best value\n",
            "Value for C = 10 (107, 203, 42)\n",
            "New best value\n",
            "Value for C = 25 (107, 206, 48)\n",
            "New best value\n",
            "Value for C = 50 (107, 216, 62)\n",
            "New best value\n",
            "Value for C = 75 (107, 222, 69)\n",
            "New best value\n",
            "Value for C = 100 (107, 228, 70)\n",
            "New best value\n",
            "Value for C = 250 (107, 264, 73)\n",
            "Value for C = 500 (107, 324, 73)\n",
            "Value for C = 625 (107, 346, 73)\n",
            "Value for C = 750 (107, 254, 73)\n",
            "Value for C = 875 (107, 232, 73)\n",
            "New best value\n",
            "Value for C = 1000 (107, 234, 73)\n",
            "New best value\n",
            "The best C value is 1000\n",
            "\n",
            "\n",
            "\n",
            "Wartość sumaryczna:\n",
            "[2694.0, 2884.0, 3214.0, 3382.0, 3553.0, 3768.0, 4023.0, 4392.0, 4677.0, 4957.0, 5216.0, 5329.0, 6392.0, 6392.0, 6654.0, 7062.0, 7643.0, 8135.0, 8666.0, 9206.0, 9988.0]\n",
            "Value for C = 1 (1518, 3229, 413)\n",
            "Value for C = 5 (1536, 3231, 414)\n",
            "New best value\n",
            "Value for C = 10 (1536, 3233, 416)\n",
            "Value for C = 25 (1536, 3240, 421)\n",
            "Value for C = 50 (1536, 3252, 432)\n",
            "Value for C = 75 (1536, 3263, 442)\n",
            "Value for C = 100 (1536, 3275, 451)\n",
            "Value for C = 250 (1536, 3346, 543)\n",
            "New best value\n",
            "Value for C = 500 (1536, 3366, 742)\n",
            "New best value\n",
            "Value for C = 625 (1536, 3358, 817)\n",
            "New best value\n",
            "Value for C = 750 (1536, 3350, 884)\n",
            "New best value\n",
            "Value for C = 875 (1536, 3343, 941)\n",
            "New best value\n",
            "Value for C = 1000 (1536, 3335, 994)\n",
            "New best value\n",
            "The best C value is 1000\n"
          ],
          "name": "stdout"
        },
        {
          "output_type": "execute_result",
          "data": {
            "text/plain": [
              "1000"
            ]
          },
          "metadata": {
            "tags": []
          },
          "execution_count": 36
        }
      ]
    },
    {
      "cell_type": "code",
      "metadata": {
        "id": "bR-xmRnAC3rQ",
        "colab_type": "code",
        "outputId": "ccb7195f-cd6c-4ee8-f813-8c31c5d6e862",
        "colab": {
          "base_uri": "https://localhost:8080/",
          "height": 1000
        }
      },
      "source": [
        "country = \"Afghanistan\"\n",
        "c1 = 100\n",
        "c2 = 250\n",
        "\n",
        "print(\"Wartość dzienna:\")\n",
        "make_table(country, 100, 0.7, False, c1)\n",
        "print(\"\\n\\n\")\n",
        "draw_graph(country, 100, 0.7, False, c1)\n",
        "\n",
        "print(\"\\n\\n\\n\")\n",
        "\n",
        "print(\"Wartość sumaryczna:\")\n",
        "make_table(country, 100, 0.7, True, c2)\n",
        "print(\"\\n\\n\")\n",
        "draw_graph(country, 100, 0.7, True, c2)"
      ],
      "execution_count": 0,
      "outputs": [
        {
          "output_type": "stream",
          "text": [
            "Wartość dzienna:\n",
            "Cases: \n",
            "\n",
            "date  real  linear poly rbf\n",
            "---- ------ ------ ---- ---\n",
            "  22  113.0    300  364 205\n",
            "  23 1063.0    311  427 188\n",
            "  24    0.0    322  506 187\n",
            "  25  262.0    332  604 187\n",
            "  26  408.0    343  723 187\n",
            "  27  581.0    353  868 187\n",
            "  28  492.0    364 1041 187\n",
            "  29  531.0    374 1249 187\n",
            "  30  540.0    385 1496 187\n",
            "  31  782.0    395 1787 187\n",
            "\n",
            "\n",
            "\n"
          ],
          "name": "stdout"
        },
        {
          "output_type": "display_data",
          "data": {
            "image/png": "[encoded data removed]",
            "text/plain": [
              "<Figure size 432x288 with 1 Axes>"
            ]
          },
          "metadata": {
            "tags": [],
            "needs_background": "light"
          }
        },
        {
          "output_type": "stream",
          "text": [
            "\n",
            "\n",
            "\n",
            "\n",
            "Wartość sumaryczna:\n",
            "Cases: \n",
            "\n",
            "date  real  linear  poly rbf \n",
            "---- ------ ------ ----- ----\n",
            "  22 4163.0   3844  6956 1606\n",
            "  23 5226.0   4043  8737 1522\n",
            "  24 5226.0   4243 10949 1519\n",
            "  25 5488.0   4442 13674 1519\n",
            "  26 5896.0   4642 17002 1519\n",
            "  27 6477.0   4842 21035 1519\n",
            "  28 6969.0   5041 25889 1519\n",
            "  29 7500.0   5241 31690 1519\n",
            "  30 8040.0   5440 38584 1519\n",
            "  31 8822.0   5640 46727 1519\n",
            "\n",
            "\n",
            "\n"
          ],
          "name": "stdout"
        },
        {
          "output_type": "display_data",
          "data": {
            "image/png": "[encoded data removed]",
            "text/plain": [
              "<Figure size 432x288 with 1 Axes>"
            ]
          },
          "metadata": {
            "tags": [],
            "needs_background": "light"
          }
        }
      ]
    }
  ]
}